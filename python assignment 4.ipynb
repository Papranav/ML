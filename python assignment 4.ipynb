{
 "cells": [
  {
   "cell_type": "markdown",
   "metadata": {},
   "source": [
    "#### Write a Python Program(with class concepts) to find the area of the triangle using the below formula. area = (s*(s-a)*(s-b)*(s-c)) ** 0.5 \n",
    "#### Function to take the length of the sides of triangle from user should be defined in the parentclass and function to calculate the area should be defined in subclass."
   ]
  },
  {
   "cell_type": "code",
   "execution_count": 13,
   "metadata": {},
   "outputs": [
    {
     "name": "stdout",
     "output_type": "stream",
     "text": [
      "Enter a: 9\n",
      "Enter b: 10\n",
      "Enter c: 11\n",
      "Area of triangle: 42.42640687119285\n",
      "\n"
     ]
    }
   ],
   "source": [
    "import math\n",
    "class triangle():\n",
    "    def __init__(self,a,b,c):\n",
    "        self.a=a\n",
    "        self.b=b\n",
    "        self.c=c\n",
    "    def area(self):\n",
    "        s=(self.a+self.b+self.c)/2\n",
    "        area=math.sqrt(s*(s-self.a)*(s-self.b)*(s-self.c))\n",
    "        return area\n",
    "a=int(input(\"Enter a: \"))\n",
    "b=int(input(\"Enter b: \"))\n",
    "c=int(input(\"Enter c: \"))\n",
    "obj=triangle(a,b,c)\n",
    "print(\"Area of triangle:\",obj.area())\n",
    " \n",
    "print()"
   ]
  },
  {
   "cell_type": "markdown",
   "metadata": {},
   "source": [
    "#### Write a function filter_long_words() that takes a list of words and an integer n and returns the list of words that are longer than n."
   ]
  },
  {
   "cell_type": "code",
   "execution_count": 14,
   "metadata": {},
   "outputs": [
    {
     "name": "stdout",
     "output_type": "stream",
     "text": [
      "Enter n: 8\n",
      "['filter_long_words()']\n"
     ]
    }
   ],
   "source": [
    "def long_words(n,str):\n",
    "    word_len=[]\n",
    "    txt=str.split(\" \")\n",
    "    for x in txt:\n",
    "        if len(x)>n:\n",
    "            word_len.append(x)\n",
    "    return word_len\n",
    "n=int(input(\"Enter n: \"))\n",
    "print(long_words(n, \"Write a function filter_long_words() that takes a list of words and an integer n and returns the list of words that are longer than n.\"))"
   ]
  },
  {
   "cell_type": "markdown",
   "metadata": {},
   "source": [
    "#### Write a Python program using function concept that maps list of words into a list of integers representing the lengths of the corresponding words.\n",
    "#### Hint: If a list [ ab,cde,erty] is passed on to the python function output should come as [2,3,4] Here 2,3 and 4 are the lengths of the words in the list."
   ]
  },
  {
   "cell_type": "code",
   "execution_count": 15,
   "metadata": {},
   "outputs": [
    {
     "name": "stdout",
     "output_type": "stream",
     "text": [
      "enter Words : qw,qwe,qwer,qwert,qwerty\n",
      "word lengths = [2, 3, 4, 5, 6]\n"
     ]
    }
   ],
   "source": [
    "def wordlength(wordlist):\n",
    "    return list(map(lambda x: len(x), wordlist))\n",
    "wordlist = list(input(\"enter Words : \").split(\",\"))\n",
    "print (\"word lengths = \" + str(wordlength(wordlist)))"
   ]
  },
  {
   "cell_type": "markdown",
   "metadata": {},
   "source": [
    "#### Write a Python function which takes a character (i.e. a string of length 1) and returns True if it is a vowel, False otherwise."
   ]
  },
  {
   "cell_type": "code",
   "execution_count": 10,
   "metadata": {},
   "outputs": [
    {
     "name": "stdout",
     "output_type": "stream",
     "text": [
      "enter char: I\n",
      "True\n"
     ]
    }
   ],
   "source": [
    "def vowel_check(char):\n",
    "        if(len(char)==1):\n",
    "            vowel_list=['a','e','i','o','u']\n",
    "            if (char.lower() in vowel_list):\n",
    "                return_value= True\n",
    "            else:\n",
    "                return_value= False\n",
    "        else:\n",
    "            return_value=\"Please enter single character only!\"        \n",
    "        return return_value\n",
    "\n",
    "\n",
    "char=input(\"enter char: \")\n",
    "\n",
    "print(vowel_check(char))\n",
    "    \n",
    "    "
   ]
  }
 ],
 "metadata": {
  "kernelspec": {
   "display_name": "Python 3",
   "language": "python",
   "name": "python3"
  },
  "language_info": {
   "codemirror_mode": {
    "name": "ipython",
    "version": 3
   },
   "file_extension": ".py",
   "mimetype": "text/x-python",
   "name": "python",
   "nbconvert_exporter": "python",
   "pygments_lexer": "ipython3",
   "version": "3.7.6"
  }
 },
 "nbformat": 4,
 "nbformat_minor": 4
}
